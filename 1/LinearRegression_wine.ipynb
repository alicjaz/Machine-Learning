{
 "cells": [
  {
   "cell_type": "code",
   "execution_count": 1,
   "metadata": {},
   "outputs": [],
   "source": [
    "import pandas as pd\n",
    "from sklearn.linear_model import LinearRegression\n",
    "from sklearn.metrics import mean_squared_error\n",
    "from sklearn.model_selection import train_test_split"
   ]
  },
  {
   "cell_type": "code",
   "execution_count": 2,
   "metadata": {},
   "outputs": [],
   "source": [
    "ds = pd.read_csv(r'C:\\Users\\Ala\\Downloads\\wine.csv')"
   ]
  },
  {
   "cell_type": "code",
   "execution_count": 3,
   "metadata": {},
   "outputs": [],
   "source": [
    "X = ds.iloc[:, :-1]\n",
    "y = ds.iloc[:, -1]"
   ]
  },
  {
   "cell_type": "code",
   "execution_count": 5,
   "metadata": {},
   "outputs": [],
   "source": [
    "X_train, X_test, y_train, y_test =  train_test_split(X, y, test_size=0.3, random_state=42)"
   ]
  },
  {
   "cell_type": "code",
   "execution_count": 6,
   "metadata": {},
   "outputs": [
    {
     "data": {
      "text/plain": [
       "LinearRegression()"
      ]
     },
     "execution_count": 6,
     "metadata": {},
     "output_type": "execute_result"
    }
   ],
   "source": [
    "model = LinearRegression()\n",
    "model.fit(X_train, y_train)"
   ]
  },
  {
   "cell_type": "code",
   "execution_count": 7,
   "metadata": {},
   "outputs": [
    {
     "name": "stdout",
     "output_type": "stream",
     "text": [
      "\n",
      "Model Coefficients: [-1.02367834e-01  3.06939765e-02 -1.71501314e-01  4.41161158e-02\n",
      "  1.42355903e-04  1.47879429e-01 -3.72945032e-01 -2.68839810e-01\n",
      "  5.16997875e-02  8.07276943e-02 -1.41326172e-01 -2.62250783e-01\n",
      " -7.15317729e-04]\n"
     ]
    }
   ],
   "source": [
    "print('\\nModel Coefficients:', model.coef_)"
   ]
  },
  {
   "cell_type": "code",
   "execution_count": 8,
   "metadata": {},
   "outputs": [
    {
     "name": "stdout",
     "output_type": "stream",
     "text": [
      "\n",
      "Intercept of the model: 4.107489543509319\n"
     ]
    }
   ],
   "source": [
    "print('\\nIntercept of the model:', model.intercept_)"
   ]
  },
  {
   "cell_type": "code",
   "execution_count": 9,
   "metadata": {},
   "outputs": [
    {
     "name": "stdout",
     "output_type": "stream",
     "text": [
      "\n",
      "Predicted train data: [2.73755528 1.73007517 1.83553345 1.23344314 1.85915793 0.79028543\n",
      " 2.9662711  1.76488391 1.97491091 3.06982166 1.07775591 0.79903815\n",
      " 1.25960633 2.75633016 1.59036193 1.15104746 1.65422376 2.84390125\n",
      " 2.24814192 0.78301583 3.00040915 1.98938581 0.82728088 2.64731003\n",
      " 1.89106212 2.07887005 1.35635379 2.39945986 1.09741429 1.28095578\n",
      " 2.30610092 1.46156221 1.18142168 2.87170411 1.54533891 1.88360659\n",
      " 1.80612031 1.1245711  1.98301923 2.19565425 1.70011461 2.85662254\n",
      " 2.71059152 1.12706836 2.09928606 2.77653487 3.1327323  2.51350321\n",
      " 1.64425884 1.10072345 1.84179104 2.80272074 2.81371533 1.856512\n",
      " 2.8954032  1.81990552 1.99454744 1.97227889 1.04939501 0.81583745\n",
      " 3.15903755 0.8854424  2.98029027 1.10035696 1.29921605 1.91275972\n",
      " 2.16704928 1.23242086 0.99862522 0.90259386 1.83342894 1.64052418\n",
      " 2.21124919 2.78623783 2.2303181  2.31665172 2.44094395 3.06354268\n",
      " 2.61208062 1.95949505 0.99830721 0.5893007  2.30339438 3.18648393\n",
      " 2.66176427 1.22972133 2.13370155 3.0892313  2.71897048 3.05462948\n",
      " 2.58882127 1.89680652 1.18167964 2.13386298 1.15959812 3.057879\n",
      " 1.01005033 1.38309935 1.99807537 1.51765092 1.02494426 2.91302835\n",
      " 2.20488534 1.38161114 3.06002013 2.90766869 0.87348081 0.87470728\n",
      " 3.04177913 2.42993059 3.22877088 2.32909515 1.65733931 2.0215118\n",
      " 2.09545974 1.87968215 1.30596486 3.18674043 1.12761893 1.76076331\n",
      " 1.80131958 0.57664585 2.1960305  1.9192051 ]\n"
     ]
    }
   ],
   "source": [
    "predict_train = model.predict(X_train)\n",
    "print('\\nPredicted train data:', predict_train)"
   ]
  },
  {
   "cell_type": "code",
   "execution_count": 10,
   "metadata": {},
   "outputs": [
    {
     "name": "stdout",
     "output_type": "stream",
     "text": [
      "\n",
      "RMSE for train data: 0.24570838066502326\n"
     ]
    }
   ],
   "source": [
    "rmse_train = mean_squared_error(y_train, predict_train)**(0.5)\n",
    "print('\\nRMSE for train data:', rmse_train)"
   ]
  },
  {
   "cell_type": "code",
   "execution_count": 11,
   "metadata": {},
   "outputs": [
    {
     "name": "stdout",
     "output_type": "stream",
     "text": [
      "\n",
      "Predicted for test data: [1.1541804  1.2793251  2.51226242 1.23069285 1.91300059 1.13035129\n",
      " 1.94187532 2.94819584 1.49694681 2.41201109 1.16037956 2.98753043\n",
      " 1.38775636 2.33885424 1.12654184 2.06364764 2.22799032 2.04483338\n",
      " 1.1246299  1.94276148 0.64134026 1.55695857 2.11968789 3.06220511\n",
      " 3.22947004 3.05349207 2.01947876 1.7443841  2.08148491 1.51558788\n",
      " 1.17035709 2.06708701 2.61426528 1.06014809 1.01381639 0.76877626\n",
      " 3.25029252 3.06234639 1.51860049 3.2418828  1.21591904 2.08686363\n",
      " 1.74831061 1.96392521 2.57690389 1.11412164 1.75475891 2.14980161\n",
      " 2.99584692 0.86327798 2.04072383 1.25515547 0.93206549 3.0741287 ]\n"
     ]
    }
   ],
   "source": [
    "predict_test=model.predict(X_test)\n",
    "print('\\nPredicted for test data:', predict_test)"
   ]
  },
  {
   "cell_type": "code",
   "execution_count": 12,
   "metadata": {},
   "outputs": [
    {
     "name": "stdout",
     "output_type": "stream",
     "text": [
      "\n",
      "RMSe on test dataset: 0.24451188603179289\n"
     ]
    }
   ],
   "source": [
    "rmse_test = mean_squared_error(y_test, predict_test)**(0.5)\n",
    "print('\\nRMSe on test dataset:', rmse_test)"
   ]
  },
  {
   "cell_type": "code",
   "execution_count": 18,
   "metadata": {},
   "outputs": [
    {
     "name": "stderr",
     "output_type": "stream",
     "text": [
      "C:\\Users\\Ala\\AppData\\Local\\Programs\\Python\\Python39\\lib\\site-packages\\seaborn\\_decorators.py:36: FutureWarning: Pass the following variables as keyword args: x, y. From version 0.12, the only valid positional argument will be `data`, and passing other arguments without an explicit keyword will result in an error or misinterpretation.\n",
      "  warnings.warn(\n"
     ]
    },
    {
     "data": {
      "text/plain": [
       "<AxesSubplot:xlabel='Alcohol', ylabel='Flavanoids'>"
      ]
     },
     "execution_count": 18,
     "metadata": {},
     "output_type": "execute_result"
    },
    {
     "data": {
      "image/png": "[encoded data removed]",
      "text/plain": [
       "<Figure size 432x288 with 1 Axes>"
      ]
     },
     "metadata": {
      "needs_background": "light"
     },
     "output_type": "display_data"
    }
   ],
   "source": [
    "import seaborn as sns\n",
    "sns.regplot(\"Alcohol\", \"Flavanoids\", data=ds)"
   ]
  }
 ],
 "metadata": {
  "interpreter": {
   "hash": "7155510279b0853efb4e71c2d1649662e0d99b82e70782f592654dd718d2ed43"
  },
  "kernelspec": {
   "display_name": "Python 3.9.6 64-bit",
   "language": "python",
   "name": "python3"
  },
  "language_info": {
   "codemirror_mode": {
    "name": "ipython",
    "version": 3
   },
   "file_extension": ".py",
   "mimetype": "text/x-python",
   "name": "python",
   "nbconvert_exporter": "python",
   "pygments_lexer": "ipython3",
   "version": "3.9.6"
  },
  "orig_nbformat": 4
 },
 "nbformat": 4,
 "nbformat_minor": 2
}
