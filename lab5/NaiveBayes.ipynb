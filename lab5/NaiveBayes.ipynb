{
  "cells": [
    {
      "cell_type": "code",
      "execution_count": 4,
      "metadata": {
        "id": "ANh5Q85pCDYa"
      },
      "outputs": [],
      "source": [
        "import pandas as pd\n",
        "from sklearn.metrics import mean_squared_error\n",
        "from sklearn.model_selection import train_test_split\n",
        "import seaborn as sns; sns.set()\n"
      ]
    },
    {
      "cell_type": "code",
      "execution_count": 5,
      "metadata": {
        "colab": {
          "base_uri": "https://localhost:8080/",
          "height": 206
        },
        "id": "ObG8du4ICDYd",
        "outputId": "6dc34452-4423-41d2-8680-390bdfa6501d"
      },
      "outputs": [
        {
          "data": {
            "text/html": [
              "<div>\n",
              "<style scoped>\n",
              "    .dataframe tbody tr th:only-of-type {\n",
              "        vertical-align: middle;\n",
              "    }\n",
              "\n",
              "    .dataframe tbody tr th {\n",
              "        vertical-align: top;\n",
              "    }\n",
              "\n",
              "    .dataframe thead th {\n",
              "        text-align: right;\n",
              "    }\n",
              "</style>\n",
              "<table border=\"1\" class=\"dataframe\">\n",
              "  <thead>\n",
              "    <tr style=\"text-align: right;\">\n",
              "      <th></th>\n",
              "      <th>PSU</th>\n",
              "      <th>O2</th>\n",
              "      <th>temp.</th>\n",
              "      <th>SS</th>\n",
              "      <th>DOC</th>\n",
              "      <th>TPOC</th>\n",
              "      <th>Windspeedinsitu</th>\n",
              "      <th>Depth</th>\n",
              "      <th>Years</th>\n",
              "    </tr>\n",
              "  </thead>\n",
              "  <tbody>\n",
              "    <tr>\n",
              "      <th>0</th>\n",
              "      <td>3.757624</td>\n",
              "      <td>9.46</td>\n",
              "      <td>18.3</td>\n",
              "      <td>52.0</td>\n",
              "      <td>7.500</td>\n",
              "      <td>8.5650</td>\n",
              "      <td>3.5</td>\n",
              "      <td>3.3</td>\n",
              "      <td>0</td>\n",
              "    </tr>\n",
              "    <tr>\n",
              "      <th>1</th>\n",
              "      <td>3.504707</td>\n",
              "      <td>9.89</td>\n",
              "      <td>19.1</td>\n",
              "      <td>50.0</td>\n",
              "      <td>7.860</td>\n",
              "      <td>8.5200</td>\n",
              "      <td>0.0</td>\n",
              "      <td>3.6</td>\n",
              "      <td>0</td>\n",
              "    </tr>\n",
              "    <tr>\n",
              "      <th>2</th>\n",
              "      <td>3.757624</td>\n",
              "      <td>9.66</td>\n",
              "      <td>18.1</td>\n",
              "      <td>59.0</td>\n",
              "      <td>8.172</td>\n",
              "      <td>8.4915</td>\n",
              "      <td>1.0</td>\n",
              "      <td>3.4</td>\n",
              "      <td>0</td>\n",
              "    </tr>\n",
              "    <tr>\n",
              "      <th>3</th>\n",
              "      <td>3.107266</td>\n",
              "      <td>10.36</td>\n",
              "      <td>19.5</td>\n",
              "      <td>46.0</td>\n",
              "      <td>7.848</td>\n",
              "      <td>8.8320</td>\n",
              "      <td>0.0</td>\n",
              "      <td>2.9</td>\n",
              "      <td>0</td>\n",
              "    </tr>\n",
              "    <tr>\n",
              "      <th>4</th>\n",
              "      <td>2.619498</td>\n",
              "      <td>11.56</td>\n",
              "      <td>19.0</td>\n",
              "      <td>42.0</td>\n",
              "      <td>7.536</td>\n",
              "      <td>9.2400</td>\n",
              "      <td>0.0</td>\n",
              "      <td>3.0</td>\n",
              "      <td>0</td>\n",
              "    </tr>\n",
              "  </tbody>\n",
              "</table>\n",
              "</div>"
            ],
            "text/plain": [
              "        PSU     O2  temp.    SS    DOC    TPOC  Windspeedinsitu  Depth  Years\n",
              "0  3.757624   9.46   18.3  52.0  7.500  8.5650              3.5    3.3      0\n",
              "1  3.504707   9.89   19.1  50.0  7.860  8.5200              0.0    3.6      0\n",
              "2  3.757624   9.66   18.1  59.0  8.172  8.4915              1.0    3.4      0\n",
              "3  3.107266  10.36   19.5  46.0  7.848  8.8320              0.0    2.9      0\n",
              "4  2.619498  11.56   19.0  42.0  7.536  9.2400              0.0    3.0      0"
            ]
          },
          "execution_count": 5,
          "metadata": {},
          "output_type": "execute_result"
        }
      ],
      "source": [
        "ds = pd.read_csv(r'C:\\Users\\Ala\\Downloads\\VLagun_Phys_Years3.csv')\n",
        "ds.head()"
      ]
    },
    {
      "cell_type": "code",
      "execution_count": 23,
      "metadata": {
        "id": "d19F8u0GCDYe"
      },
      "outputs": [],
      "source": [
        "X = ds.drop(columns=['PSU', 'O2', 'temp.', 'SS', 'TPOC', 'Depth',  'Years'])\n",
        "y = ds.iloc[:, -1]"
      ]
    },
    {
      "cell_type": "code",
      "execution_count": null,
      "metadata": {
        "id": "qnMbcSE_CDYf"
      },
      "outputs": [],
      "source": [
        "#X_train, X_test, y_train, y_test =  train_test_split(X, y, test_size=0.3, random_state=0)"
      ]
    },
    {
      "cell_type": "code",
      "execution_count": 24,
      "metadata": {
        "colab": {
          "base_uri": "https://localhost:8080/"
        },
        "id": "hNhbHxBaCDYf",
        "outputId": "06f65a66-7cc1-4ca3-8f7f-f298ef2103a6"
      },
      "outputs": [
        {
          "data": {
            "text/plain": [
              "((84, 2), (36, 2))"
            ]
          },
          "execution_count": 24,
          "metadata": {},
          "output_type": "execute_result"
        }
      ],
      "source": [
        "seed = 7\n",
        "X_train, X_test, y_train, y_test = train_test_split(X,y, test_size = 0.3, random_state=seed)\n",
        "X_train.shape, X_test.shape"
      ]
    },
    {
      "cell_type": "code",
      "execution_count": 25,
      "metadata": {
        "id": "0HOoWu6eCDYg"
      },
      "outputs": [],
      "source": [
        "from sklearn.naive_bayes import GaussianNB\n",
        "from sklearn.metrics import accuracy_score\n",
        "\n",
        "model = GaussianNB()"
      ]
    },
    {
      "cell_type": "code",
      "execution_count": 26,
      "metadata": {
        "colab": {
          "base_uri": "https://localhost:8080/"
        },
        "id": "lLvMOKbbCDYh",
        "outputId": "e7fd3082-5865-48fd-f092-bb490d225d59"
      },
      "outputs": [
        {
          "data": {
            "text/plain": [
              "GaussianNB()"
            ]
          },
          "execution_count": 26,
          "metadata": {},
          "output_type": "execute_result"
        }
      ],
      "source": [
        "model.fit(X_train,y_train)"
      ]
    },
    {
      "cell_type": "code",
      "execution_count": 27,
      "metadata": {
        "colab": {
          "base_uri": "https://localhost:8080/"
        },
        "id": "Sd9PUBh_ZitL",
        "outputId": "df40efcc-69ef-4b99-e329-02d39766d09d"
      },
      "outputs": [
        {
          "name": "stdout",
          "output_type": "stream",
          "text": [
            "Target on train data [1 0 1 0 1 0 0 1 0 0 0 0 1 0 1 0 0 0 0 1 0 0 0 1 0 0 1 1 1 0 1 1 1 0 0 1 0\n",
            " 1 1 1 1 0 0 1 1 1 1 0 0 0 1 0 0 1 0 1 1 0 0 0 1 0 0 1 0 1 1 0 1 1 0 1 1 1\n",
            " 0 0 1 1 0 1 0 0 1 0]\n"
          ]
        }
      ],
      "source": [
        "predict_train = model.predict(X_train)\n",
        "print('Target on train data',predict_train)"
      ]
    },
    {
      "cell_type": "code",
      "execution_count": 28,
      "metadata": {
        "colab": {
          "base_uri": "https://localhost:8080/"
        },
        "id": "d4dz1RlwZjd3",
        "outputId": "1b2cc06a-3de7-4a0c-dd20-f1663e0ea283"
      },
      "outputs": [
        {
          "data": {
            "text/plain": [
              "GaussianNB()"
            ]
          },
          "execution_count": 28,
          "metadata": {},
          "output_type": "execute_result"
        }
      ],
      "source": [
        "model.fit(X_test,y_test)"
      ]
    },
    {
      "cell_type": "code",
      "execution_count": 29,
      "metadata": {
        "colab": {
          "base_uri": "https://localhost:8080/"
        },
        "id": "9AKYAvItCDYi",
        "outputId": "c3f6ebc2-b3da-40a2-f10f-5f062232790d"
      },
      "outputs": [
        {
          "name": "stdout",
          "output_type": "stream",
          "text": [
            "Target on test dataset:  [1 1 1 1 1 0 1 1 1 0 1 0 0 1 0 0 1 0 0 0 0 1 0 0 1 1 0 0 0 0 0 1 0 1 1 1]\n"
          ]
        }
      ],
      "source": [
        "predict_test = model.predict(X_test)\n",
        "print('Target on test dataset: ', predict_test)"
      ]
    },
    {
      "cell_type": "code",
      "execution_count": 37,
      "metadata": {
        "colab": {
          "base_uri": "https://localhost:8080/",
          "height": 130
        },
        "id": "0hsp_T3SCDYk",
        "outputId": "29c720c3-a22d-497b-b8a3-99010bf0756d"
      },
      "outputs": [
        {
          "data": {
            "text/plain": [
              "<AxesSubplot:xlabel='DOC', ylabel='Windspeedinsitu'>"
            ]
          },
          "execution_count": 37,
          "metadata": {},
          "output_type": "execute_result"
        },
        {
          "data": {
            "image/png": "[encoded data removed]",
            "text/plain": [
              "<Figure size 432x288 with 1 Axes>"
            ]
          },
          "metadata": {},
          "output_type": "display_data"
        }
      ],
      "source": [
        "%matplotlib inline\n",
        "import numpy as np\n",
        "import matplotlib.pyplot as plt\n",
        "import seaborn as sns; sns.set()\n",
        "\n",
        "#scatterplot sns \n",
        "sns.scatterplot(x=\"DOC\", y=\"Windspeedinsitu\", hue='Years', data=ds)\n"
      ]
    }
  ],
  "metadata": {
    "colab": {
      "collapsed_sections": [],
      "name": "NaiveBayes.ipynb",
      "provenance": []
    },
    "interpreter": {
      "hash": "7155510279b0853efb4e71c2d1649662e0d99b82e70782f592654dd718d2ed43"
    },
    "kernelspec": {
      "display_name": "Python 3.9.6 64-bit",
      "language": "python",
      "name": "python3"
    },
    "language_info": {
      "codemirror_mode": {
        "name": "ipython",
        "version": 3
      },
      "file_extension": ".py",
      "mimetype": "text/x-python",
      "name": "python",
      "nbconvert_exporter": "python",
      "pygments_lexer": "ipython3",
      "version": "3.9.6"
    },
    "orig_nbformat": 4
  },
  "nbformat": 4,
  "nbformat_minor": 0
}
