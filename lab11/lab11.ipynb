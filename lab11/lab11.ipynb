{
 "cells": [
  {
   "cell_type": "code",
   "execution_count": null,
   "metadata": {},
   "outputs": [],
   "source": [
    "def confusion_mat(y_pred, y_test):\n",
    "    plt.figure()\n",
    "    sns.set(font_scale=1.5)\n",
    "    cm = confusion_matrix(y_test, y_pred)\n",
    "    sns.heatmap(cm, annot=True, fmt='g')\n",
    "    plt.title('Confusion matrix')\n",
    "    plt.ylabel('True label')\n",
    "    plt.xlabel('Predicted label')\n",
    "    plt.show()"
   ]
  },
  {
   "cell_type": "code",
   "execution_count": null,
   "metadata": {},
   "outputs": [],
   "source": [
    "knn = KNeighborsClassifier(n_neighbors=11)\n",
    "knn.fit(X_train, y_train)\n",
    "\n",
    "scores = cross_val_score(knn, X,Y, cv=RepeatedStratifiedKFold(n_repeats=CV_N_REPEATS))\n",
    "print('Accuracy: %0.2f (+/- %0.2f)' % (scores.mean(), scores.std() * 2))"
   ]
  },
  {
   "cell_type": "code",
   "execution_count": null,
   "metadata": {},
   "outputs": [],
   "source": [
    "dt = DecisionTreeClassifier(random_state=1,max_depth=2)\n",
    "dt = dt.fit(X_train, y_train)\n",
    "dt_scores = cross_val_score(dt, X,Y, cv=RepeatedStratifiedKFold(n_repeats=CV_N_REPEATS))\n",
    "print('Accuracy: %0.2f (+/- %0.2f)' % (dt_scores.mean(), dt_scores.std() * 2))"
   ]
  },
  {
   "cell_type": "code",
   "execution_count": null,
   "metadata": {},
   "outputs": [],
   "source": [
    "tree.fit(X_train, y_train)\n",
    "tree = DecisionTreeClassifier(criterion='entropy', max_depth=3, min_samples_leaf=5,random_state=0)\n",
    "tree.fit(X_train, y_train)\n",
    "\n",
    "export_graphviz(tree, out_file='tree.dot', feature_names=X.columns, rounded=True, filled=True)\n"
   ]
  },
  {
   "cell_type": "code",
   "execution_count": null,
   "metadata": {},
   "outputs": [],
   "source": [
    "bag = BaggingClassifier(n_estimators=100, oob_score=True, random_state=1)\n",
    "bag=bag.fit(X_train, y_train)\n",
    "\n",
    "bag_scores = cross_val_score(bag, X,Y, cv=RepeatedStratifiedKFold(n_repeats=CV_N_REPEATS))\n",
    "print('Accuracy: %0.2f (+/- %0.2f)' % (bag_scores.mean(), bag_scores.std() * 2))"
   ]
  },
  {
   "cell_type": "code",
   "execution_count": null,
   "metadata": {},
   "outputs": [],
   "source": [
    "num_estimators = 100\n",
    "rf = RandomForest(n_estimators=num_estimators)\n",
    "rf.fit(X_train, y_train)\n",
    "\n",
    "rf_scores = rf.score(X_test, y_test)\n",
    "print('Accuracy: %0.2f (+/- %0.2f)' % (rf_scores.mean(), rf_scores.std() * 2))\n",
    "y_pred = rf.predict(X_test)\n",
    "confusion_mat(y_pred, y_test)\n"
   ]
  },
  {
   "cell_type": "code",
   "execution_count": null,
   "metadata": {},
   "outputs": [],
   "source": [
    "feature_names = X_train.columns.values\n",
    "show_weights(rf, feature_names=feature_names)"
   ]
  },
  {
   "cell_type": "code",
   "execution_count": null,
   "metadata": {},
   "outputs": [],
   "source": [
    "scores = cross_val_score(rf, X,Y, RepeatedStratifiedKFold(n_repeats=CV_N_REPEATS))\n",
    "scores_est = scores.copy()\n",
    "print('Accuracy: %0.2f (+/- %0.2f)' % (scores.mean(), scores.std() * 2))\n",
    "\n",
    "score_line = f\"Scores (Accuracy) mean={scores.mean():0.2f} std={scores.std():0.2f}\"\n",
    "plt.figure()\n",
    "fig, ax = plt.subplots() \n",
    "pd.Series(scores).hist(ax=ax, bins=BINS)\n",
    "ax.set_title(f\"RepeatedKFold({len(scores)} folds) with randomForest \\n\"+score_line)\n",
    "ax.set_xlabel(\"Score\")\n",
    "ax.set_ylabel(\"Frequency\")"
   ]
  },
  {
   "cell_type": "code",
   "execution_count": null,
   "metadata": {},
   "outputs": [],
   "source": [
    "plt.figure()\n",
    "fig,ax = plt.subplots()\n",
    "df_dummy_est_scores = pd.DataFrame({'dummy': scores_dummy, 'RF': scores_est})\n",
    "df_dummy_est_scores.plot(kind='hist',ax=ax, bins=20)\n",
    "ax.set_xlabel('Score')\n",
    "ax.set_title(\"Dummy vs RandomForest scores\")"
   ]
  },
  {
   "cell_type": "code",
   "execution_count": null,
   "metadata": {},
   "outputs": [],
   "source": [
    "from sklearn.metrics import mean_squared_log_error\n",
    "params = {'n_estimators': 500, 'learning_rate': 0.01, 'max_depth': 4, 'loss': 'deviance', 'random_state': 0}\n",
    "gbm = GradientBoostingClassifier(**params)\n",
    "gbm.fit(X_train, y_train)"
   ]
  },
  {
   "cell_type": "code",
   "execution_count": null,
   "metadata": {},
   "outputs": [],
   "source": [
    "y_pred = gmb.predict(X_test)\n",
    "gmb_score = accuracy_score(y_test,y_pred)\n",
    "print(\"Accuracy of GMB Classifier: {0:0.2f}\".format(gmb_score*100.0))\n",
    "\n",
    "confusion_mat(y_pred, y_test)"
   ]
  },
  {
   "cell_type": "code",
   "execution_count": null,
   "metadata": {},
   "outputs": [],
   "source": [
    "test_score = np.zeros((params['n_estimators'],), dtype=np.float64)\n",
    "\n",
    "for i,y_pred in enumerate(gbm.staged_predict(X_test)):\n",
    "    test_score[i] = gbm.loss_(y_test, y_pred)\n",
    "\n",
    "plt.figure(figsize=(12, 6))\n",
    "plt.subplot(1, 2, 1)\n",
    "plt.title('GMB Deviance w.r.t Number of Estimators')\n",
    "plt.plot(np.avarange(params['n_estimators'])+1, gbm.train_score_, 'b-', label='Training Set Deviance')\n",
    "plt.plot(np.avarange(params['n_estimators'])+1, test_score, 'r-', label='Test Set Deviance')\n",
    "plt.legend(loc='best')\n",
    "plt.xlabel('Boosting Iterations')\n",
    "plt.ylabel('Deviance')"
   ]
  },
  {
   "cell_type": "code",
   "execution_count": null,
   "metadata": {},
   "outputs": [],
   "source": [
    "feature_importance = gmb.feature_importances_\n",
    "feature_importance = 100*(feature_importance / feature_importance.max())\n",
    "sorted_idx = np.argsort(feature_importance)\n",
    "\n",
    "pos = np.arange(sorted_idx.shape[0]) + .5\n",
    "plt.subplot(1, 2, 2)\n",
    "plt.barh(pos, feature_importance[sorted_idx], align='center')\n",
    "plt.yticks(pos, X_train.columns[sorted_idx])\n",
    "plt.xlabel('Relative Importance')\n",
    "plt.title('Variable Importance')\n",
    "plt.show()"
   ]
  },
  {
   "cell_type": "code",
   "execution_count": null,
   "metadata": {},
   "outputs": [],
   "source": [
    "pip install mlxtend"
   ]
  },
  {
   "cell_type": "code",
   "execution_count": null,
   "metadata": {},
   "outputs": [],
   "source": [
    "from mlxtend.classifier import StackingCVClassifier\n",
    "sclf = StackingCVClassifier(classifiers=[knn,rf,xgb, gmb], meta_classifier=rf)\n",
    "print('10-fold cross validation:\\n')"
   ]
  },
  {
   "cell_type": "code",
   "execution_count": null,
   "metadata": {},
   "outputs": [],
   "source": [
    "for clf, label in zip([knn, rf, xgb, gmb], ['KNearest Neighbors', 'Random Forest', 'XGB', 'GMB', 'MetaClassifier']):\n",
    "    sclf_scores = model_selection.cross_val_score(clf, X,Y,cv=10, scoring = 'accuracy')\n",
    "\n",
    "print('Accuracy: %0.2f (+/- %0.2f)[%s]' % (sclf_scores.mean(), sclf_scores.std(), label))"
   ]
  },
  {
   "cell_type": "code",
   "execution_count": null,
   "metadata": {},
   "outputs": [],
   "source": [
    "models = []\n",
    "models.append(('KNN', knn))\n",
    "models.append(('DT', dt))\n",
    "models.append(('RF', rf))\n",
    "models.append(('XGB', xgb))\n",
    "models.append(('GMB', gmb))\n",
    "models.append(('Voting', ensemble_knn_rf_xgb))\n"
   ]
  },
  {
   "cell_type": "code",
   "execution_count": null,
   "metadata": {},
   "outputs": [],
   "source": [
    "results = []\n",
    "names = []\n",
    "for name, model in models:\n",
    "    kfold = RepeatedStratifiedKFold(n_repeats=CV_N_REPEATS)\n",
    "    cv_results = cross_val_score(model, X,Y, cv=kfold, scoring='accuracy')\n",
    "    results.append(cv_results)\n",
    "    names.append(name)\n",
    "    msg = \"%s: %f (%f)\" % (name, cv_results.mean(), cv_results.std())\n",
    "    print(msg)\n",
    "\n",
    "results.append(np.asarray(sclf_scores))\n",
    "names.append('Stacking')"
   ]
  },
  {
   "cell_type": "code",
   "execution_count": null,
   "metadata": {},
   "outputs": [],
   "source": [
    "fig = plt.figure(figsize=(10,6))\n",
    "fig.suptitle('Algorithm Comparison')\n",
    "ax.sns.boxplot(x=names, y=results)\n",
    "plt.xlabel('Classifiers')\n",
    "plt.ylabel('Accuracy')\n",
    "plt.show()"
   ]
  },
  {
   "cell_type": "code",
   "execution_count": null,
   "metadata": {},
   "outputs": [],
   "source": [
    "visualizer = ClassificationReport(xgb, classes = [\"N\"])"
   ]
  },
  {
   "cell_type": "code",
   "execution_count": null,
   "metadata": {},
   "outputs": [],
   "source": []
  }
 ],
 "metadata": {
  "language_info": {
   "name": "python"
  },
  "orig_nbformat": 4
 },
 "nbformat": 4,
 "nbformat_minor": 2
}
