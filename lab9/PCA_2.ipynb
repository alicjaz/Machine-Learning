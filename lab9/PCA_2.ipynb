{
 "cells": [
  {
   "cell_type": "code",
   "execution_count": 1,
   "metadata": {
    "id": "ANh5Q85pCDYa"
   },
   "outputs": [],
   "source": [
    "import pandas as pd\n",
    "from sklearn.metrics import mean_squared_error\n",
    "from sklearn.linear_model import LinearRegression\n",
    "from sklearn.model_selection import train_test_split\n",
    "import seaborn as sns"
   ]
  },
  {
   "cell_type": "code",
   "execution_count": 21,
   "metadata": {
    "colab": {
     "base_uri": "https://localhost:8080/",
     "height": 206
    },
    "id": "ObG8du4ICDYd",
    "outputId": "f9f2fb3d-9b9c-431a-ad68-9f4674b9f296"
   },
   "outputs": [],
   "source": [
    "ds = pd.read_csv(r'C:\\Users\\Ala\\Downloads\\wine.csv')"
   ]
  },
  {
   "cell_type": "code",
   "execution_count": 3,
   "metadata": {
    "id": "d19F8u0GCDYe"
   },
   "outputs": [],
   "source": [
    "X = ds.iloc[:, :-1]\n",
    "y = ds.iloc[:, -1]"
   ]
  },
  {
   "cell_type": "code",
   "execution_count": 4,
   "metadata": {
    "colab": {
     "base_uri": "https://localhost:8080/"
    },
    "id": "qnMbcSE_CDYf",
    "outputId": "cdf276bb-aa3e-4ec2-92ba-1eb4fedec784"
   },
   "outputs": [
    {
     "data": {
      "text/plain": [
       "((124, 13), (54, 13))"
      ]
     },
     "execution_count": 4,
     "metadata": {},
     "output_type": "execute_result"
    }
   ],
   "source": [
    "seed = 7\n",
    "X_train, X_test, y_train, y_test = train_test_split(X,y, test_size = 0.3, random_state=seed)\n",
    "X_train.shape, X_test.shape"
   ]
  },
  {
   "cell_type": "code",
   "execution_count": 5,
   "metadata": {},
   "outputs": [
    {
     "name": "stdout",
     "output_type": "stream",
     "text": [
      "\n",
      " Training model with 13 dimensions\n"
     ]
    }
   ],
   "source": [
    "print('\\n Training model with {} dimensions' .format(X_train.shape[1]))"
   ]
  },
  {
   "cell_type": "code",
   "execution_count": 6,
   "metadata": {},
   "outputs": [],
   "source": [
    "model = LinearRegression()"
   ]
  },
  {
   "cell_type": "markdown",
   "metadata": {},
   "source": [
    "model = LinearRegression()"
   ]
  },
  {
   "cell_type": "code",
   "execution_count": 7,
   "metadata": {},
   "outputs": [
    {
     "data": {
      "text/plain": [
       "LinearRegression()"
      ]
     },
     "execution_count": 7,
     "metadata": {},
     "output_type": "execute_result"
    }
   ],
   "source": [
    "model.fit(X_train, y_train)"
   ]
  },
  {
   "cell_type": "code",
   "execution_count": 8,
   "metadata": {},
   "outputs": [],
   "source": [
    "predict_train = model.predict(X_train)"
   ]
  },
  {
   "cell_type": "code",
   "execution_count": 9,
   "metadata": {},
   "outputs": [
    {
     "name": "stdout",
     "output_type": "stream",
     "text": [
      "RMSE on train dataset: 0.23619215005996846\n"
     ]
    }
   ],
   "source": [
    "rmse_train = mean_squared_error(y_train,predict_train)**(0.5)\n",
    "print('RMSE on train dataset:', rmse_train)"
   ]
  },
  {
   "cell_type": "code",
   "execution_count": 10,
   "metadata": {},
   "outputs": [],
   "source": [
    "from sklearn.decomposition import PCA\n",
    "model_pca = PCA(n_components=12)"
   ]
  },
  {
   "cell_type": "code",
   "execution_count": 11,
   "metadata": {},
   "outputs": [],
   "source": [
    "new_train = model_pca.fit_transform(X_train)\n",
    "new_test = model_pca.fit_transform(X_test)"
   ]
  },
  {
   "cell_type": "code",
   "execution_count": 12,
   "metadata": {},
   "outputs": [
    {
     "name": "stdout",
     "output_type": "stream",
     "text": [
      "Training model with 12 dimension.\n"
     ]
    }
   ],
   "source": [
    "print('Training model with {} dimension.' .format(new_train.shape[1]))"
   ]
  },
  {
   "cell_type": "code",
   "execution_count": 13,
   "metadata": {},
   "outputs": [],
   "source": [
    "new_model = LinearRegression()"
   ]
  },
  {
   "cell_type": "code",
   "execution_count": 14,
   "metadata": {},
   "outputs": [
    {
     "data": {
      "text/plain": [
       "LinearRegression()"
      ]
     },
     "execution_count": 14,
     "metadata": {},
     "output_type": "execute_result"
    }
   ],
   "source": [
    "new_model.fit(new_train, y_train)"
   ]
  },
  {
   "cell_type": "code",
   "execution_count": 15,
   "metadata": {},
   "outputs": [],
   "source": [
    "predict_train_pca = new_model.predict(new_train)"
   ]
  },
  {
   "cell_type": "code",
   "execution_count": 16,
   "metadata": {},
   "outputs": [
    {
     "name": "stdout",
     "output_type": "stream",
     "text": [
      "RMSE on new train dataset: 0.2412891793404104\n"
     ]
    }
   ],
   "source": [
    "rmse_train_pca = mean_squared_error(y_train,predict_train_pca)**(0.5)\n",
    "print('RMSE on new train dataset:', rmse_train_pca)"
   ]
  },
  {
   "cell_type": "code",
   "execution_count": 17,
   "metadata": {},
   "outputs": [],
   "source": [
    "predict_test_pca = new_model.predict(new_test)"
   ]
  },
  {
   "cell_type": "code",
   "execution_count": 18,
   "metadata": {},
   "outputs": [
    {
     "name": "stdout",
     "output_type": "stream",
     "text": [
      "RMSE on new test dataset: 1.007813848454059\n"
     ]
    }
   ],
   "source": [
    "rmse_test_pca = mean_squared_error(y_test,predict_test_pca)**(0.5)\n",
    "print('RMSE on new test dataset:', rmse_test_pca)"
   ]
  },
  {
   "cell_type": "code",
   "execution_count": 19,
   "metadata": {
    "colab": {
     "base_uri": "https://localhost:8080/"
    },
    "id": "0HOoWu6eCDYg",
    "outputId": "dd8c4e4a-5c68-4202-dac0-be2df212cdb5"
   },
   "outputs": [
    {
     "name": "stdout",
     "output_type": "stream",
     "text": [
      "Variance explained by the principal components (in decrising order):  [0.36198848 0.1920749  0.11123631 0.0706903  0.06563294 0.04935823\n",
      " 0.04238679 0.02680749]\n",
      "Shape of transformed X :  (178, 8)\n"
     ]
    }
   ],
   "source": [
    "import pandas as pd\n",
    "from sklearn.decomposition import PCA\n",
    "from sklearn.linear_model import LinearRegression\n",
    "from sklearn.metrics import mean_squared_error\n",
    "from sklearn.model_selection import train_test_split\n",
    "from sklearn.preprocessing import StandardScaler\n",
    "\n",
    "X = StandardScaler().fit_transform(X)\n",
    "pca = PCA(n_components=.90)\n",
    "pca.fit(X)\n",
    "print(\"Variance explained by the principal components (in decrising order): \", pca.explained_variance_ratio_)\n",
    "X1 = pca.transform(X)\n",
    "print(\"Shape of transformed X : \", X1.shape)\n"
   ]
  },
  {
   "cell_type": "code",
   "execution_count": 22,
   "metadata": {},
   "outputs": [
    {
     "data": {
      "application/vnd.plotly.v1+json": {
       "config": {
        "plotlyServerURL": "https://plot.ly"
       },
       "data": [
        {
         "hovertemplate": "0=%{x}<br>1=%{y}<br>color=%{marker.color}<extra></extra>",
         "legendgroup": "",
         "marker": {
          "color": [
           1,
           1,
           1,
           1,
           1,
           1,
           1,
           1,
           1,
           1,
           1,
           1,
           1,
           1,
           1,
           1,
           1,
           1,
           1,
           1,
           1,
           1,
           1,
           1,
           1,
           1,
           1,
           1,
           1,
           1,
           1,
           1,
           1,
           1,
           1,
           1,
           1,
           1,
           1,
           1,
           1,
           1,
           1,
           1,
           1,
           1,
           1,
           1,
           1,
           1,
           1,
           1,
           1,
           1,
           1,
           1,
           1,
           1,
           1,
           2,
           2,
           2,
           2,
           2,
           2,
           2,
           2,
           2,
           2,
           2,
           2,
           2,
           2,
           2,
           2,
           2,
           2,
           2,
           2,
           2,
           2,
           2,
           2,
           2,
           2,
           2,
           2,
           2,
           2,
           2,
           2,
           2,
           2,
           2,
           2,
           2,
           2,
           2,
           2,
           2,
           2,
           2,
           2,
           2,
           2,
           2,
           2,
           2,
           2,
           2,
           2,
           2,
           2,
           2,
           2,
           2,
           2,
           2,
           2,
           2,
           2,
           2,
           2,
           2,
           2,
           2,
           2,
           2,
           2,
           2,
           3,
           3,
           3,
           3,
           3,
           3,
           3,
           3,
           3,
           3,
           3,
           3,
           3,
           3,
           3,
           3,
           3,
           3,
           3,
           3,
           3,
           3,
           3,
           3,
           3,
           3,
           3,
           3,
           3,
           3,
           3,
           3,
           3,
           3,
           3,
           3,
           3,
           3,
           3,
           3,
           3,
           3,
           3,
           3,
           3,
           3,
           3,
           3
          ],
          "coloraxis": "coloraxis",
          "symbol": "circle"
         },
         "mode": "markers",
         "name": "",
         "orientation": "v",
         "showlegend": false,
         "type": "scatter",
         "x": [
          3.316750812214779,
          2.2094649169188467,
          2.5167401466103825,
          3.7570656097732016,
          1.0089084937957145,
          3.0502539224180754,
          2.4490896695962316,
          2.0594368714379137,
          2.510874297398988,
          2.753628187633911,
          3.4797366827312124,
          1.754752901294589,
          2.1134623403150967,
          3.4581568193367205,
          4.312783906765563,
          2.305188200827973,
          2.1719552737415126,
          1.898971176562762,
          3.54198508194347,
          2.084522204730313,
          3.1244025351672007,
          1.0865700683322403,
          2.5352240799037147,
          1.64498834125447,
          1.7615758722693,
          0.9900791016088544,
          1.7752776281133686,
          1.2354239643099059,
          2.1884063344519613,
          2.256108981283708,
          2.500220025789425,
          2.677411047444016,
          1.6285791164309185,
          1.9026908622381475,
          1.4103885265954061,
          1.9038262321944863,
          1.3848622303748388,
          1.1222074104413098,
          1.5021945006181923,
          2.529801092371812,
          2.5880954258544038,
          0.668481993754187,
          3.0708069904120086,
          0.4622091375160073,
          2.101351930538016,
          1.1361661775610183,
          2.726600963640803,
          2.8213392741922503,
          2.009850850912358,
          2.7074913042663953,
          3.214917474773825,
          2.858959826717294,
          3.5056043559232237,
          2.2247913805321726,
          2.1469878235638675,
          2.4693294837977877,
          2.741517914277453,
          2.1737409209653076,
          3.1393801518289957,
          -0.9285819689218546,
          -1.5424801378968815,
          -1.8362497634669395,
          0.030606834086680485,
          2.0502616075763167,
          -0.6096808271776228,
          0.9002278387071428,
          2.2485071907983953,
          0.18338402668475648,
          -0.8128050273520732,
          1.975620498798555,
          -1.5722162196263008,
          1.6576818088332879,
          -0.7253723880353562,
          2.5622271731703603,
          1.8325675700495474,
          -0.8679929031954117,
          0.37001440429478355,
          -1.4573770449061394,
          1.2629308497284975,
          0.37615037193423984,
          0.7620639041095987,
          1.034577967165187,
          -0.494876755680329,
          -2.5389770842951207,
          0.8353201453942964,
          0.787904614989709,
          -0.8068321559655399,
          -0.5580426248756832,
          -1.1151110419194472,
          -0.5557228299517026,
          -1.3492852824437322,
          -1.5644826057199068,
          -1.9325556106314647,
          0.7466659419884496,
          0.9574553638036414,
          2.543865184199552,
          -0.5439525887762302,
          1.0310497503881486,
          2.2519094221481253,
          1.4102160153374592,
          0.7977197926930418,
          -0.5495317266494645,
          -0.16117373994854606,
          -0.6597949416843606,
          0.3923544081850826,
          -1.7724990779600358,
          -0.3662673573520648,
          -1.6206725727874802,
          0.0825357834933269,
          1.5782750709323803,
          1.4205692478240166,
          -0.2787027536488551,
          -1.3031449662482817,
          -0.4570718656526253,
          -0.49418584704437574,
          0.48207440977309274,
          -0.25288887765320084,
          -0.10722763772912425,
          -2.4330126025502183,
          -0.551089539174651,
          0.7396219285682216,
          1.3363217334183293,
          -1.177086996247774,
          -0.4623350080196804,
          0.9784740793566475,
          -0.09680972631598585,
          0.03848714594902402,
          -1.5971585012074732,
          -0.4795649160831267,
          -1.7928334730311453,
          -1.3271016561416014,
          -2.38450083474353,
          -2.936940102146613,
          -2.146811133816064,
          -2.3698694883330425,
          -3.0638415687203544,
          -3.9157537837118914,
          -3.9364633907159647,
          -3.0942761177622757,
          -2.374471628006924,
          -2.7788129476325154,
          -2.2865612847384695,
          -2.985633487449468,
          -2.3751946982271086,
          -2.20986552559587,
          -2.6256210046927215,
          -4.280638778751088,
          -3.5826413720011048,
          -2.807063720081659,
          -2.89965933302391,
          -2.320736976549204,
          -2.549830947226135,
          -1.8125412848422993,
          -2.76014464192395,
          -2.7371505006679904,
          -3.6048688681834253,
          -2.8898259968735065,
          -3.3921560768357213,
          -1.048181896853678,
          -1.609912282847935,
          -3.143130966743975,
          -2.240156896269543,
          -2.8476737761195206,
          -2.597497056648765,
          -2.949299373134844,
          -3.5300322663493127,
          -2.406110540478552,
          -2.9290847269674543,
          -2.181412778812621,
          -2.38092778713564,
          -3.2116172150412483,
          -3.677918720973816,
          -2.4655557980404486,
          -3.3705241454428605,
          -2.601955851224738,
          -2.677839460864501,
          -2.387017091279719,
          -3.2087581641980223
         ],
         "xaxis": "x",
         "y": [
          -1.4434626343180064,
          0.3333928870802997,
          -1.031151296274319,
          -2.756371913710711,
          -0.8698308214172048,
          -2.1224011146341915,
          -1.1748501316494737,
          -1.6089630683635079,
          -0.9180709573337765,
          -0.7894376738336056,
          -1.302333237123595,
          -0.6119772287456313,
          -0.6757063391426189,
          -1.130629876172937,
          -2.0959755753412614,
          -1.662551729989056,
          -2.3273053361914195,
          -1.631368878642838,
          -2.5183436693066463,
          -1.0611379935838603,
          -0.7868971056508943,
          -0.24174355133284017,
          0.09184062072088059,
          0.5162789300672351,
          0.3171489326843809,
          -0.9406673381906345,
          -0.6861751342850235,
          0.08980704136064,
          -0.6895696206616244,
          -0.19146193688666482,
          -1.240833834896943,
          -1.471873646103249,
          -0.052704450575323476,
          -1.6330604347699835,
          -0.6979343246113565,
          -0.17671095109545604,
          -0.6586398536611485,
          -0.11410976029688823,
          0.7694320064310092,
          -1.8030019760618279,
          -0.7796163041925067,
          -0.16996094061987566,
          -1.1559189566098826,
          -0.3307421321922753,
          0.07100892095406733,
          -1.777107392977638,
          -1.1913346919571834,
          -0.6462585991417028,
          -1.2470294606787602,
          -1.7519674072063371,
          -0.16699199499679038,
          -0.7452788039895886,
          -1.6127338560350108,
          -1.875167999563025,
          -1.0167515377576595,
          -1.329008310649622,
          -1.4365487835125137,
          -1.2121998406977945,
          -1.7315791159925122,
          3.0734861631889285,
          1.381443508094229,
          0.8299841230557181,
          1.2627861442114028,
          1.9250326046501016,
          1.9080588050851879,
          0.7639114736096092,
          1.8845924845501343,
          2.427146114703571,
          0.22051398690226964,
          1.4032832253096157,
          0.8849831369082221,
          0.9567121974591491,
          1.0636454007060947,
          -0.26019855065459674,
          1.2878781978605258,
          2.444101185580864,
          2.153906975156989,
          1.3833517690762593,
          0.7708495299701181,
          1.027043403355822,
          3.3750538099635357,
          1.4507097382440917,
          2.3812435267673697,
          0.08744335730498165,
          1.4736705514008683,
          2.0266265224624775,
          2.233830390843911,
          2.372985428849455,
          1.8022471916654534,
          2.6575400353922927,
          2.118001469784818,
          1.8522145217655503,
          1.5594954568986217,
          2.3129317092207398,
          2.2235284346674606,
          -0.16927402279974016,
          0.36892654587731655,
          2.5655693487335234,
          1.4327413803542555,
          2.166191769370384,
          2.376948803081862,
          2.2931286432456264,
          1.1644833215600154,
          2.6799611859896353,
          2.098731708765537,
          1.7172884693761419,
          2.1693532978292827,
          1.355583388025957,
          2.306234587748325,
          1.4620342902048165,
          1.41820663763375,
          1.9305680886704677,
          0.7631723136577913,
          2.269415607589675,
          1.939045049486832,
          3.8717838484072384,
          2.821492374701592,
          1.9289220425669587,
          1.257141040494393,
          2.2221615507766215,
          1.4089566673657126,
          -0.25333693116830514,
          0.6639668398015698,
          0.6182881794850411,
          1.4455704988958262,
          2.109997993135226,
          1.2667621091578853,
          1.2081435741284852,
          1.9388406603940478,
          1.1502881044421045,
          -0.1703892320490272,
          -0.3745826055246935,
          -0.2638618300683807,
          -0.36825495188646146,
          0.4596348092311672,
          -0.3534128354584029,
          -0.15458251944173368,
          -0.6596872334097833,
          -0.3488427592737965,
          -0.29198035155999486,
          -0.28680487288217504,
          -0.3725078446852991,
          -0.48921790834701284,
          -0.4823337172448781,
          -1.1600525041576428,
          -0.5631607642108348,
          -0.6496709640237068,
          -1.2727027497273016,
          -1.5705337870411977,
          -2.041057007938464,
          -2.3563660755566738,
          -2.0452830910195243,
          -1.5276459462687504,
          -2.138932347642611,
          -0.40988627088179075,
          -1.8023842175839673,
          -1.925218613130343,
          -1.3118763884735964,
          -3.51508969121973,
          -2.406638159574328,
          -0.7381610441757978,
          -1.1754652881188647,
          -0.5560439658826746,
          -0.6979655372009197,
          -1.5553089642839837,
          -0.8825267962042368,
          -2.592356175042398,
          -1.2744469479044827,
          -2.0775373127345156,
          -2.5886674324185908,
          0.25124910442559123,
          -0.8477478441497632,
          -2.193798303654093,
          -2.216289139861137,
          -1.7572293509792758,
          -2.760899131674546,
          -2.297346679712819,
          -2.768919566047576
         ],
         "yaxis": "y"
        }
       ],
       "layout": {
        "coloraxis": {
         "colorbar": {
          "title": {
           "text": "color"
          }
         },
         "colorscale": [
          [
           0,
           "#0d0887"
          ],
          [
           0.1111111111111111,
           "#46039f"
          ],
          [
           0.2222222222222222,
           "#7201a8"
          ],
          [
           0.3333333333333333,
           "#9c179e"
          ],
          [
           0.4444444444444444,
           "#bd3786"
          ],
          [
           0.5555555555555556,
           "#d8576b"
          ],
          [
           0.6666666666666666,
           "#ed7953"
          ],
          [
           0.7777777777777778,
           "#fb9f3a"
          ],
          [
           0.8888888888888888,
           "#fdca26"
          ],
          [
           1,
           "#f0f921"
          ]
         ]
        },
        "legend": {
         "tracegroupgap": 0
        },
        "margin": {
         "t": 60
        },
        "template": {
         "data": {
          "bar": [
           {
            "error_x": {
             "color": "#2a3f5f"
            },
            "error_y": {
             "color": "#2a3f5f"
            },
            "marker": {
             "line": {
              "color": "#E5ECF6",
              "width": 0.5
             },
             "pattern": {
              "fillmode": "overlay",
              "size": 10,
              "solidity": 0.2
             }
            },
            "type": "bar"
           }
          ],
          "barpolar": [
           {
            "marker": {
             "line": {
              "color": "#E5ECF6",
              "width": 0.5
             },
             "pattern": {
              "fillmode": "overlay",
              "size": 10,
              "solidity": 0.2
             }
            },
            "type": "barpolar"
           }
          ],
          "carpet": [
           {
            "aaxis": {
             "endlinecolor": "#2a3f5f",
             "gridcolor": "white",
             "linecolor": "white",
             "minorgridcolor": "white",
             "startlinecolor": "#2a3f5f"
            },
            "baxis": {
             "endlinecolor": "#2a3f5f",
             "gridcolor": "white",
             "linecolor": "white",
             "minorgridcolor": "white",
             "startlinecolor": "#2a3f5f"
            },
            "type": "carpet"
           }
          ],
          "choropleth": [
           {
            "colorbar": {
             "outlinewidth": 0,
             "ticks": ""
            },
            "type": "choropleth"
           }
          ],
          "contour": [
           {
            "colorbar": {
             "outlinewidth": 0,
             "ticks": ""
            },
            "colorscale": [
             [
              0,
              "#0d0887"
             ],
             [
              0.1111111111111111,
              "#46039f"
             ],
             [
              0.2222222222222222,
              "#7201a8"
             ],
             [
              0.3333333333333333,
              "#9c179e"
             ],
             [
              0.4444444444444444,
              "#bd3786"
             ],
             [
              0.5555555555555556,
              "#d8576b"
             ],
             [
              0.6666666666666666,
              "#ed7953"
             ],
             [
              0.7777777777777778,
              "#fb9f3a"
             ],
             [
              0.8888888888888888,
              "#fdca26"
             ],
             [
              1,
              "#f0f921"
             ]
            ],
            "type": "contour"
           }
          ],
          "contourcarpet": [
           {
            "colorbar": {
             "outlinewidth": 0,
             "ticks": ""
            },
            "type": "contourcarpet"
           }
          ],
          "heatmap": [
           {
            "colorbar": {
             "outlinewidth": 0,
             "ticks": ""
            },
            "colorscale": [
             [
              0,
              "#0d0887"
             ],
             [
              0.1111111111111111,
              "#46039f"
             ],
             [
              0.2222222222222222,
              "#7201a8"
             ],
             [
              0.3333333333333333,
              "#9c179e"
             ],
             [
              0.4444444444444444,
              "#bd3786"
             ],
             [
              0.5555555555555556,
              "#d8576b"
             ],
             [
              0.6666666666666666,
              "#ed7953"
             ],
             [
              0.7777777777777778,
              "#fb9f3a"
             ],
             [
              0.8888888888888888,
              "#fdca26"
             ],
             [
              1,
              "#f0f921"
             ]
            ],
            "type": "heatmap"
           }
          ],
          "heatmapgl": [
           {
            "colorbar": {
             "outlinewidth": 0,
             "ticks": ""
            },
            "colorscale": [
             [
              0,
              "#0d0887"
             ],
             [
              0.1111111111111111,
              "#46039f"
             ],
             [
              0.2222222222222222,
              "#7201a8"
             ],
             [
              0.3333333333333333,
              "#9c179e"
             ],
             [
              0.4444444444444444,
              "#bd3786"
             ],
             [
              0.5555555555555556,
              "#d8576b"
             ],
             [
              0.6666666666666666,
              "#ed7953"
             ],
             [
              0.7777777777777778,
              "#fb9f3a"
             ],
             [
              0.8888888888888888,
              "#fdca26"
             ],
             [
              1,
              "#f0f921"
             ]
            ],
            "type": "heatmapgl"
           }
          ],
          "histogram": [
           {
            "marker": {
             "pattern": {
              "fillmode": "overlay",
              "size": 10,
              "solidity": 0.2
             }
            },
            "type": "histogram"
           }
          ],
          "histogram2d": [
           {
            "colorbar": {
             "outlinewidth": 0,
             "ticks": ""
            },
            "colorscale": [
             [
              0,
              "#0d0887"
             ],
             [
              0.1111111111111111,
              "#46039f"
             ],
             [
              0.2222222222222222,
              "#7201a8"
             ],
             [
              0.3333333333333333,
              "#9c179e"
             ],
             [
              0.4444444444444444,
              "#bd3786"
             ],
             [
              0.5555555555555556,
              "#d8576b"
             ],
             [
              0.6666666666666666,
              "#ed7953"
             ],
             [
              0.7777777777777778,
              "#fb9f3a"
             ],
             [
              0.8888888888888888,
              "#fdca26"
             ],
             [
              1,
              "#f0f921"
             ]
            ],
            "type": "histogram2d"
           }
          ],
          "histogram2dcontour": [
           {
            "colorbar": {
             "outlinewidth": 0,
             "ticks": ""
            },
            "colorscale": [
             [
              0,
              "#0d0887"
             ],
             [
              0.1111111111111111,
              "#46039f"
             ],
             [
              0.2222222222222222,
              "#7201a8"
             ],
             [
              0.3333333333333333,
              "#9c179e"
             ],
             [
              0.4444444444444444,
              "#bd3786"
             ],
             [
              0.5555555555555556,
              "#d8576b"
             ],
             [
              0.6666666666666666,
              "#ed7953"
             ],
             [
              0.7777777777777778,
              "#fb9f3a"
             ],
             [
              0.8888888888888888,
              "#fdca26"
             ],
             [
              1,
              "#f0f921"
             ]
            ],
            "type": "histogram2dcontour"
           }
          ],
          "mesh3d": [
           {
            "colorbar": {
             "outlinewidth": 0,
             "ticks": ""
            },
            "type": "mesh3d"
           }
          ],
          "parcoords": [
           {
            "line": {
             "colorbar": {
              "outlinewidth": 0,
              "ticks": ""
             }
            },
            "type": "parcoords"
           }
          ],
          "pie": [
           {
            "automargin": true,
            "type": "pie"
           }
          ],
          "scatter": [
           {
            "marker": {
             "colorbar": {
              "outlinewidth": 0,
              "ticks": ""
             }
            },
            "type": "scatter"
           }
          ],
          "scatter3d": [
           {
            "line": {
             "colorbar": {
              "outlinewidth": 0,
              "ticks": ""
             }
            },
            "marker": {
             "colorbar": {
              "outlinewidth": 0,
              "ticks": ""
             }
            },
            "type": "scatter3d"
           }
          ],
          "scattercarpet": [
           {
            "marker": {
             "colorbar": {
              "outlinewidth": 0,
              "ticks": ""
             }
            },
            "type": "scattercarpet"
           }
          ],
          "scattergeo": [
           {
            "marker": {
             "colorbar": {
              "outlinewidth": 0,
              "ticks": ""
             }
            },
            "type": "scattergeo"
           }
          ],
          "scattergl": [
           {
            "marker": {
             "colorbar": {
              "outlinewidth": 0,
              "ticks": ""
             }
            },
            "type": "scattergl"
           }
          ],
          "scattermapbox": [
           {
            "marker": {
             "colorbar": {
              "outlinewidth": 0,
              "ticks": ""
             }
            },
            "type": "scattermapbox"
           }
          ],
          "scatterpolar": [
           {
            "marker": {
             "colorbar": {
              "outlinewidth": 0,
              "ticks": ""
             }
            },
            "type": "scatterpolar"
           }
          ],
          "scatterpolargl": [
           {
            "marker": {
             "colorbar": {
              "outlinewidth": 0,
              "ticks": ""
             }
            },
            "type": "scatterpolargl"
           }
          ],
          "scatterternary": [
           {
            "marker": {
             "colorbar": {
              "outlinewidth": 0,
              "ticks": ""
             }
            },
            "type": "scatterternary"
           }
          ],
          "surface": [
           {
            "colorbar": {
             "outlinewidth": 0,
             "ticks": ""
            },
            "colorscale": [
             [
              0,
              "#0d0887"
             ],
             [
              0.1111111111111111,
              "#46039f"
             ],
             [
              0.2222222222222222,
              "#7201a8"
             ],
             [
              0.3333333333333333,
              "#9c179e"
             ],
             [
              0.4444444444444444,
              "#bd3786"
             ],
             [
              0.5555555555555556,
              "#d8576b"
             ],
             [
              0.6666666666666666,
              "#ed7953"
             ],
             [
              0.7777777777777778,
              "#fb9f3a"
             ],
             [
              0.8888888888888888,
              "#fdca26"
             ],
             [
              1,
              "#f0f921"
             ]
            ],
            "type": "surface"
           }
          ],
          "table": [
           {
            "cells": {
             "fill": {
              "color": "#EBF0F8"
             },
             "line": {
              "color": "white"
             }
            },
            "header": {
             "fill": {
              "color": "#C8D4E3"
             },
             "line": {
              "color": "white"
             }
            },
            "type": "table"
           }
          ]
         },
         "layout": {
          "annotationdefaults": {
           "arrowcolor": "#2a3f5f",
           "arrowhead": 0,
           "arrowwidth": 1
          },
          "autotypenumbers": "strict",
          "coloraxis": {
           "colorbar": {
            "outlinewidth": 0,
            "ticks": ""
           }
          },
          "colorscale": {
           "diverging": [
            [
             0,
             "#8e0152"
            ],
            [
             0.1,
             "#c51b7d"
            ],
            [
             0.2,
             "#de77ae"
            ],
            [
             0.3,
             "#f1b6da"
            ],
            [
             0.4,
             "#fde0ef"
            ],
            [
             0.5,
             "#f7f7f7"
            ],
            [
             0.6,
             "#e6f5d0"
            ],
            [
             0.7,
             "#b8e186"
            ],
            [
             0.8,
             "#7fbc41"
            ],
            [
             0.9,
             "#4d9221"
            ],
            [
             1,
             "#276419"
            ]
           ],
           "sequential": [
            [
             0,
             "#0d0887"
            ],
            [
             0.1111111111111111,
             "#46039f"
            ],
            [
             0.2222222222222222,
             "#7201a8"
            ],
            [
             0.3333333333333333,
             "#9c179e"
            ],
            [
             0.4444444444444444,
             "#bd3786"
            ],
            [
             0.5555555555555556,
             "#d8576b"
            ],
            [
             0.6666666666666666,
             "#ed7953"
            ],
            [
             0.7777777777777778,
             "#fb9f3a"
            ],
            [
             0.8888888888888888,
             "#fdca26"
            ],
            [
             1,
             "#f0f921"
            ]
           ],
           "sequentialminus": [
            [
             0,
             "#0d0887"
            ],
            [
             0.1111111111111111,
             "#46039f"
            ],
            [
             0.2222222222222222,
             "#7201a8"
            ],
            [
             0.3333333333333333,
             "#9c179e"
            ],
            [
             0.4444444444444444,
             "#bd3786"
            ],
            [
             0.5555555555555556,
             "#d8576b"
            ],
            [
             0.6666666666666666,
             "#ed7953"
            ],
            [
             0.7777777777777778,
             "#fb9f3a"
            ],
            [
             0.8888888888888888,
             "#fdca26"
            ],
            [
             1,
             "#f0f921"
            ]
           ]
          },
          "colorway": [
           "#636efa",
           "#EF553B",
           "#00cc96",
           "#ab63fa",
           "#FFA15A",
           "#19d3f3",
           "#FF6692",
           "#B6E880",
           "#FF97FF",
           "#FECB52"
          ],
          "font": {
           "color": "#2a3f5f"
          },
          "geo": {
           "bgcolor": "white",
           "lakecolor": "white",
           "landcolor": "#E5ECF6",
           "showlakes": true,
           "showland": true,
           "subunitcolor": "white"
          },
          "hoverlabel": {
           "align": "left"
          },
          "hovermode": "closest",
          "mapbox": {
           "style": "light"
          },
          "paper_bgcolor": "white",
          "plot_bgcolor": "#E5ECF6",
          "polar": {
           "angularaxis": {
            "gridcolor": "white",
            "linecolor": "white",
            "ticks": ""
           },
           "bgcolor": "#E5ECF6",
           "radialaxis": {
            "gridcolor": "white",
            "linecolor": "white",
            "ticks": ""
           }
          },
          "scene": {
           "xaxis": {
            "backgroundcolor": "#E5ECF6",
            "gridcolor": "white",
            "gridwidth": 2,
            "linecolor": "white",
            "showbackground": true,
            "ticks": "",
            "zerolinecolor": "white"
           },
           "yaxis": {
            "backgroundcolor": "#E5ECF6",
            "gridcolor": "white",
            "gridwidth": 2,
            "linecolor": "white",
            "showbackground": true,
            "ticks": "",
            "zerolinecolor": "white"
           },
           "zaxis": {
            "backgroundcolor": "#E5ECF6",
            "gridcolor": "white",
            "gridwidth": 2,
            "linecolor": "white",
            "showbackground": true,
            "ticks": "",
            "zerolinecolor": "white"
           }
          },
          "shapedefaults": {
           "line": {
            "color": "#2a3f5f"
           }
          },
          "ternary": {
           "aaxis": {
            "gridcolor": "white",
            "linecolor": "white",
            "ticks": ""
           },
           "baxis": {
            "gridcolor": "white",
            "linecolor": "white",
            "ticks": ""
           },
           "bgcolor": "#E5ECF6",
           "caxis": {
            "gridcolor": "white",
            "linecolor": "white",
            "ticks": ""
           }
          },
          "title": {
           "x": 0.05
          },
          "xaxis": {
           "automargin": true,
           "gridcolor": "white",
           "linecolor": "white",
           "ticks": "",
           "title": {
            "standoff": 15
           },
           "zerolinecolor": "white",
           "zerolinewidth": 2
          },
          "yaxis": {
           "automargin": true,
           "gridcolor": "white",
           "linecolor": "white",
           "ticks": "",
           "title": {
            "standoff": 15
           },
           "zerolinecolor": "white",
           "zerolinewidth": 2
          }
         }
        },
        "xaxis": {
         "anchor": "y",
         "domain": [
          0,
          1
         ],
         "title": {
          "text": "0"
         }
        },
        "yaxis": {
         "anchor": "x",
         "domain": [
          0,
          1
         ],
         "title": {
          "text": "1"
         }
        }
       }
      }
     },
     "metadata": {},
     "output_type": "display_data"
    }
   ],
   "source": [
    "import plotly.express as px\n",
    "\n",
    "\n",
    "pca = PCA(n_components=2)\n",
    "components = pca.fit_transform(X)\n",
    "\n",
    "fig = px.scatter(components, x=0, y=1, color=ds['Wine'])\n",
    "fig.show()"
   ]
  },
  {
   "cell_type": "code",
   "execution_count": 20,
   "metadata": {},
   "outputs": [
    {
     "data": {
      "application/vnd.plotly.v1+json": {
       "config": {
        "plotlyServerURL": "https://plot.ly"
       },
       "data": [
        {
         "hovertemplate": "PC 1=%{x}<br>PC 2=%{y}<br>PC 3=%{z}<br>color=%{marker.color}<extra></extra>",
         "legendgroup": "",
         "marker": {
          "color": [
           1,
           1,
           1,
           1,
           1,
           1,
           1,
           1,
           1,
           1,
           1,
           1,
           1,
           1,
           1,
           1,
           1,
           1,
           1,
           1,
           1,
           1,
           1,
           1,
           1,
           1,
           1,
           1,
           1,
           1,
           1,
           1,
           1,
           1,
           1,
           1,
           1,
           1,
           1,
           1,
           1,
           1,
           1,
           1,
           1,
           1,
           1,
           1,
           1,
           1,
           1,
           1,
           1,
           1,
           1,
           1,
           1,
           1,
           1,
           2,
           2,
           2,
           2,
           2,
           2,
           2,
           2,
           2,
           2,
           2,
           2,
           2,
           2,
           2,
           2,
           2,
           2,
           2,
           2,
           2,
           2,
           2,
           2,
           2,
           2,
           2,
           2,
           2,
           2,
           2,
           2,
           2,
           2,
           2,
           2,
           2,
           2,
           2,
           2,
           2,
           2,
           2,
           2,
           2,
           2,
           2,
           2,
           2,
           2,
           2,
           2,
           2,
           2,
           2,
           2,
           2,
           2,
           2,
           2,
           2,
           2,
           2,
           2,
           2,
           2,
           2,
           2,
           2,
           2,
           2,
           3,
           3,
           3,
           3,
           3,
           3,
           3,
           3,
           3,
           3,
           3,
           3,
           3,
           3,
           3,
           3,
           3,
           3,
           3,
           3,
           3,
           3,
           3,
           3,
           3,
           3,
           3,
           3,
           3,
           3,
           3,
           3,
           3,
           3,
           3,
           3,
           3,
           3,
           3,
           3,
           3,
           3,
           3,
           3,
           3,
           3,
           3,
           3
          ],
          "coloraxis": "coloraxis",
          "symbol": "circle"
         },
         "mode": "markers",
         "name": "",
         "scene": "scene",
         "showlegend": false,
         "type": "scatter3d",
         "x": [
          3.316750812214779,
          2.2094649169188467,
          2.5167401466103825,
          3.7570656097732016,
          1.0089084937957145,
          3.0502539224180754,
          2.4490896695962316,
          2.0594368714379137,
          2.510874297398988,
          2.753628187633911,
          3.4797366827312124,
          1.754752901294589,
          2.1134623403150967,
          3.4581568193367205,
          4.312783906765563,
          2.305188200827973,
          2.1719552737415126,
          1.898971176562762,
          3.54198508194347,
          2.084522204730313,
          3.1244025351672007,
          1.0865700683322403,
          2.5352240799037147,
          1.64498834125447,
          1.7615758722693,
          0.9900791016088544,
          1.7752776281133686,
          1.2354239643099059,
          2.1884063344519613,
          2.256108981283708,
          2.500220025789425,
          2.677411047444016,
          1.6285791164309185,
          1.9026908622381475,
          1.4103885265954061,
          1.9038262321944863,
          1.3848622303748388,
          1.1222074104413098,
          1.5021945006181923,
          2.529801092371812,
          2.5880954258544038,
          0.668481993754187,
          3.0708069904120086,
          0.4622091375160073,
          2.101351930538016,
          1.1361661775610183,
          2.726600963640803,
          2.8213392741922503,
          2.009850850912358,
          2.7074913042663953,
          3.214917474773825,
          2.858959826717294,
          3.5056043559232237,
          2.2247913805321726,
          2.1469878235638675,
          2.4693294837977877,
          2.741517914277453,
          2.1737409209653076,
          3.1393801518289957,
          -0.9285819689218546,
          -1.5424801378968815,
          -1.8362497634669395,
          0.030606834086680485,
          2.0502616075763167,
          -0.6096808271776228,
          0.9002278387071428,
          2.2485071907983953,
          0.18338402668475648,
          -0.8128050273520732,
          1.975620498798555,
          -1.5722162196263008,
          1.6576818088332879,
          -0.7253723880353562,
          2.5622271731703603,
          1.8325675700495474,
          -0.8679929031954117,
          0.37001440429478355,
          -1.4573770449061394,
          1.2629308497284975,
          0.37615037193423984,
          0.7620639041095987,
          1.034577967165187,
          -0.494876755680329,
          -2.5389770842951207,
          0.8353201453942964,
          0.787904614989709,
          -0.8068321559655399,
          -0.5580426248756832,
          -1.1151110419194472,
          -0.5557228299517026,
          -1.3492852824437322,
          -1.5644826057199068,
          -1.9325556106314647,
          0.7466659419884496,
          0.9574553638036414,
          2.543865184199552,
          -0.5439525887762302,
          1.0310497503881486,
          2.2519094221481253,
          1.4102160153374592,
          0.7977197926930418,
          -0.5495317266494645,
          -0.16117373994854606,
          -0.6597949416843606,
          0.3923544081850826,
          -1.7724990779600358,
          -0.3662673573520648,
          -1.6206725727874802,
          0.0825357834933269,
          1.5782750709323803,
          1.4205692478240166,
          -0.2787027536488551,
          -1.3031449662482817,
          -0.4570718656526253,
          -0.49418584704437574,
          0.48207440977309274,
          -0.25288887765320084,
          -0.10722763772912425,
          -2.4330126025502183,
          -0.551089539174651,
          0.7396219285682216,
          1.3363217334183293,
          -1.177086996247774,
          -0.4623350080196804,
          0.9784740793566475,
          -0.09680972631598585,
          0.03848714594902402,
          -1.5971585012074732,
          -0.4795649160831267,
          -1.7928334730311453,
          -1.3271016561416014,
          -2.38450083474353,
          -2.936940102146613,
          -2.146811133816064,
          -2.3698694883330425,
          -3.0638415687203544,
          -3.9157537837118914,
          -3.9364633907159647,
          -3.0942761177622757,
          -2.374471628006924,
          -2.7788129476325154,
          -2.2865612847384695,
          -2.985633487449468,
          -2.3751946982271086,
          -2.20986552559587,
          -2.6256210046927215,
          -4.280638778751088,
          -3.5826413720011048,
          -2.807063720081659,
          -2.89965933302391,
          -2.320736976549204,
          -2.549830947226135,
          -1.8125412848422993,
          -2.76014464192395,
          -2.7371505006679904,
          -3.6048688681834253,
          -2.8898259968735065,
          -3.3921560768357213,
          -1.048181896853678,
          -1.609912282847935,
          -3.143130966743975,
          -2.240156896269543,
          -2.8476737761195206,
          -2.597497056648765,
          -2.949299373134844,
          -3.5300322663493127,
          -2.406110540478552,
          -2.9290847269674543,
          -2.181412778812621,
          -2.38092778713564,
          -3.2116172150412483,
          -3.677918720973816,
          -2.4655557980404486,
          -3.3705241454428605,
          -2.601955851224738,
          -2.677839460864501,
          -2.387017091279719,
          -3.2087581641980223
         ],
         "y": [
          -1.4434626343180064,
          0.3333928870802997,
          -1.031151296274319,
          -2.756371913710711,
          -0.8698308214172048,
          -2.1224011146341915,
          -1.1748501316494737,
          -1.6089630683635079,
          -0.9180709573337765,
          -0.7894376738336056,
          -1.302333237123595,
          -0.6119772287456313,
          -0.6757063391426189,
          -1.130629876172937,
          -2.0959755753412614,
          -1.662551729989056,
          -2.3273053361914195,
          -1.631368878642838,
          -2.5183436693066463,
          -1.0611379935838603,
          -0.7868971056508943,
          -0.24174355133284017,
          0.09184062072088059,
          0.5162789300672351,
          0.3171489326843809,
          -0.9406673381906345,
          -0.6861751342850235,
          0.08980704136064,
          -0.6895696206616244,
          -0.19146193688666482,
          -1.240833834896943,
          -1.471873646103249,
          -0.052704450575323476,
          -1.6330604347699835,
          -0.6979343246113565,
          -0.17671095109545604,
          -0.6586398536611485,
          -0.11410976029688823,
          0.7694320064310092,
          -1.8030019760618279,
          -0.7796163041925067,
          -0.16996094061987566,
          -1.1559189566098826,
          -0.3307421321922753,
          0.07100892095406733,
          -1.777107392977638,
          -1.1913346919571834,
          -0.6462585991417028,
          -1.2470294606787602,
          -1.7519674072063371,
          -0.16699199499679038,
          -0.7452788039895886,
          -1.6127338560350108,
          -1.875167999563025,
          -1.0167515377576595,
          -1.329008310649622,
          -1.4365487835125137,
          -1.2121998406977945,
          -1.7315791159925122,
          3.0734861631889285,
          1.381443508094229,
          0.8299841230557181,
          1.2627861442114028,
          1.9250326046501016,
          1.9080588050851879,
          0.7639114736096092,
          1.8845924845501343,
          2.427146114703571,
          0.22051398690226964,
          1.4032832253096157,
          0.8849831369082221,
          0.9567121974591491,
          1.0636454007060947,
          -0.26019855065459674,
          1.2878781978605258,
          2.444101185580864,
          2.153906975156989,
          1.3833517690762593,
          0.7708495299701181,
          1.027043403355822,
          3.3750538099635357,
          1.4507097382440917,
          2.3812435267673697,
          0.08744335730498165,
          1.4736705514008683,
          2.0266265224624775,
          2.233830390843911,
          2.372985428849455,
          1.8022471916654534,
          2.6575400353922927,
          2.118001469784818,
          1.8522145217655503,
          1.5594954568986217,
          2.3129317092207398,
          2.2235284346674606,
          -0.16927402279974016,
          0.36892654587731655,
          2.5655693487335234,
          1.4327413803542555,
          2.166191769370384,
          2.376948803081862,
          2.2931286432456264,
          1.1644833215600154,
          2.6799611859896353,
          2.098731708765537,
          1.7172884693761419,
          2.1693532978292827,
          1.355583388025957,
          2.306234587748325,
          1.4620342902048165,
          1.41820663763375,
          1.9305680886704677,
          0.7631723136577913,
          2.269415607589675,
          1.939045049486832,
          3.8717838484072384,
          2.821492374701592,
          1.9289220425669587,
          1.257141040494393,
          2.2221615507766215,
          1.4089566673657126,
          -0.25333693116830514,
          0.6639668398015698,
          0.6182881794850411,
          1.4455704988958262,
          2.109997993135226,
          1.2667621091578853,
          1.2081435741284852,
          1.9388406603940478,
          1.1502881044421045,
          -0.1703892320490272,
          -0.3745826055246935,
          -0.2638618300683807,
          -0.36825495188646146,
          0.4596348092311672,
          -0.3534128354584029,
          -0.15458251944173368,
          -0.6596872334097833,
          -0.3488427592737965,
          -0.29198035155999486,
          -0.28680487288217504,
          -0.3725078446852991,
          -0.48921790834701284,
          -0.4823337172448781,
          -1.1600525041576428,
          -0.5631607642108348,
          -0.6496709640237068,
          -1.2727027497273016,
          -1.5705337870411977,
          -2.041057007938464,
          -2.3563660755566738,
          -2.0452830910195243,
          -1.5276459462687504,
          -2.138932347642611,
          -0.40988627088179075,
          -1.8023842175839673,
          -1.925218613130343,
          -1.3118763884735964,
          -3.51508969121973,
          -2.406638159574328,
          -0.7381610441757978,
          -1.1754652881188647,
          -0.5560439658826746,
          -0.6979655372009197,
          -1.5553089642839837,
          -0.8825267962042368,
          -2.592356175042398,
          -1.2744469479044827,
          -2.0775373127345156,
          -2.5886674324185908,
          0.25124910442559123,
          -0.8477478441497632,
          -2.193798303654093,
          -2.216289139861137,
          -1.7572293509792758,
          -2.760899131674546,
          -2.297346679712819,
          -2.768919566047576
         ],
         "z": [
          -0.16573904461441794,
          -2.026457373807535,
          0.9828186702120604,
          -0.17619184219949263,
          2.0266882192354068,
          -0.6293958270439131,
          -0.977094890714196,
          0.14628188306155795,
          -1.7709690272289411,
          -0.9842474895182352,
          -0.42273521658084606,
          -1.190878319630174,
          -0.865086425616654,
          -1.2042763525381903,
          -1.2639127523579987,
          0.21790261559595692,
          0.8317298659860083,
          0.7949137923810703,
          -0.4854585076662923,
          -0.1647466784994751,
          -0.3648870829888457,
          0.9369615996106431,
          -0.31193265934796993,
          0.1438850946707948,
          0.8902856474056885,
          3.8209080081948357,
          -0.08670040648876354,
          -1.3868965448964357,
          1.3945668808503588,
          -1.092657257508293,
          1.3860178547156796,
          -0.3322617283750927,
          -0.16712870624533402,
          1.1720821191753448,
          0.4797430251686617,
          0.4508350400372091,
          0.45843858085206113,
          -0.03910727668974895,
          -1.4261773458904603,
          -0.3431523889796927,
          -0.11847746611373554,
          -0.7833625480611459,
          -0.3127580839341542,
          -0.201476496256773,
          -0.6558494150434335,
          0.02870573578475046,
          -0.5397732611476733,
          -1.155552410727406,
          -0.05729398793992169,
          -0.643113612000794,
          -1.9735716799013716,
          0.004719502164697472,
          -0.5207745300761751,
          0.3395498503542079,
          -0.9577627619503263,
          0.5134374530359708,
          -0.6124733957169579,
          0.26177959277078944,
          -0.2856614126164482,
          -4.585064007148205,
          -0.8746831124458103,
          -1.6057021863206191,
          -1.7844080104188542,
          -0.007368777349816455,
          0.6793579379775345,
          0.5733613020971915,
          -2.031840192867584,
          -1.0697455602477974,
          -0.7070053958009677,
          -1.238276219684863,
          -0.628997950231593,
          1.952584216606198,
          0.08033222861543772,
          3.374393962239757,
          0.458280027399559,
          -1.5633331789503786,
          -2.4493863483037366,
          -0.22730690232730613,
          -1.18422451737524,
          1.7944662945426573,
          -0.3574700555394644,
          -0.36301177316396044,
          1.335743176284866,
          0.4742513927691465,
          0.6100935756921076,
          -0.25472340396954957,
          0.7728557971982644,
          2.3076114040120017,
          0.9592533076886531,
          0.849126897743225,
          -0.04765232084869219,
          0.7810670309346315,
          -0.08927467610867774,
          0.11467976874541527,
          0.1424447736987253,
          0.7886969907454779,
          1.3088959318568592,
          -1.0863901738177382,
          -0.23020824379781274,
          0.7488964107708782,
          -1.568112531275526,
          -1.4989353232010758,
          1.0037131028373554,
          -0.7649208684795132,
          -0.4718500076097378,
          0.9470331744608649,
          -0.48132423474228975,
          0.28715900069561756,
          -0.46357498937395253,
          1.7796459547332837,
          0.13927582948819384,
          0.07867055304723437,
          1.9995965104868518,
          1.0613389675926657,
          1.3239380723766925,
          1.3442712233930707,
          -0.30263978453063917,
          0.6901482425075126,
          -1.9030274044113495,
          -0.35622883021253554,
          1.1253454920042358,
          5.345388179195742,
          3.010221887946427,
          0.4834423663441802,
          1.4812369749959462,
          0.43482611561678863,
          0.6875779128728101,
          3.361175555386427,
          1.2965075188296709,
          0.782800173182263,
          -1.1800133553094836,
          -0.7238225948116618,
          -0.16763981598371944,
          -0.4533013014691856,
          -1.1013997885920572,
          -1.099124104115341,
          0.22182779984104536,
          1.7122154192145327,
          -1.0268314134224517,
          1.2419143328305615,
          0.6096701239723705,
          -0.9716430323608541,
          0.9469529317999683,
          -0.2528839940533358,
          -1.2451252259210646,
          -0.8559610818033762,
          -1.4581969616385675,
          -0.11078403762472885,
          -0.4725279345720865,
          -0.49595981023509295,
          0.4376817436187633,
          -0.31226799865093,
          1.3625897815878727,
          -0.9646286882006794,
          -1.1904046839669837,
          -0.09403686133597403,
          -0.7823225555084482,
          1.6020259689000202,
          1.1600385659132275,
          0.5485596972407103,
          -0.09099872392222426,
          -0.10137693249612315,
          0.8042152181010266,
          -0.8849395211306336,
          -0.9834007272249408,
          -0.46602912777854094,
          0.4282262107995767,
          -1.2133582715051494,
          0.7637825515581194,
          1.418044029496812,
          -0.8471291521285015,
          -1.3394202310855166,
          -0.9187809604264899,
          -0.34256951241432526,
          0.20758135498125063,
          -0.9409418766769951,
          -0.5506961970110866,
          1.0139136641131126
         ]
        }
       ],
       "layout": {
        "coloraxis": {
         "colorbar": {
          "title": {
           "text": "color"
          }
         },
         "colorscale": [
          [
           0,
           "#0d0887"
          ],
          [
           0.1111111111111111,
           "#46039f"
          ],
          [
           0.2222222222222222,
           "#7201a8"
          ],
          [
           0.3333333333333333,
           "#9c179e"
          ],
          [
           0.4444444444444444,
           "#bd3786"
          ],
          [
           0.5555555555555556,
           "#d8576b"
          ],
          [
           0.6666666666666666,
           "#ed7953"
          ],
          [
           0.7777777777777778,
           "#fb9f3a"
          ],
          [
           0.8888888888888888,
           "#fdca26"
          ],
          [
           1,
           "#f0f921"
          ]
         ]
        },
        "legend": {
         "tracegroupgap": 0
        },
        "scene": {
         "domain": {
          "x": [
           0,
           1
          ],
          "y": [
           0,
           1
          ]
         },
         "xaxis": {
          "title": {
           "text": "PC 1"
          }
         },
         "yaxis": {
          "title": {
           "text": "PC 2"
          }
         },
         "zaxis": {
          "title": {
           "text": "PC 3"
          }
         }
        },
        "template": {
         "data": {
          "bar": [
           {
            "error_x": {
             "color": "#2a3f5f"
            },
            "error_y": {
             "color": "#2a3f5f"
            },
            "marker": {
             "line": {
              "color": "#E5ECF6",
              "width": 0.5
             },
             "pattern": {
              "fillmode": "overlay",
              "size": 10,
              "solidity": 0.2
             }
            },
            "type": "bar"
           }
          ],
          "barpolar": [
           {
            "marker": {
             "line": {
              "color": "#E5ECF6",
              "width": 0.5
             },
             "pattern": {
              "fillmode": "overlay",
              "size": 10,
              "solidity": 0.2
             }
            },
            "type": "barpolar"
           }
          ],
          "carpet": [
           {
            "aaxis": {
             "endlinecolor": "#2a3f5f",
             "gridcolor": "white",
             "linecolor": "white",
             "minorgridcolor": "white",
             "startlinecolor": "#2a3f5f"
            },
            "baxis": {
             "endlinecolor": "#2a3f5f",
             "gridcolor": "white",
             "linecolor": "white",
             "minorgridcolor": "white",
             "startlinecolor": "#2a3f5f"
            },
            "type": "carpet"
           }
          ],
          "choropleth": [
           {
            "colorbar": {
             "outlinewidth": 0,
             "ticks": ""
            },
            "type": "choropleth"
           }
          ],
          "contour": [
           {
            "colorbar": {
             "outlinewidth": 0,
             "ticks": ""
            },
            "colorscale": [
             [
              0,
              "#0d0887"
             ],
             [
              0.1111111111111111,
              "#46039f"
             ],
             [
              0.2222222222222222,
              "#7201a8"
             ],
             [
              0.3333333333333333,
              "#9c179e"
             ],
             [
              0.4444444444444444,
              "#bd3786"
             ],
             [
              0.5555555555555556,
              "#d8576b"
             ],
             [
              0.6666666666666666,
              "#ed7953"
             ],
             [
              0.7777777777777778,
              "#fb9f3a"
             ],
             [
              0.8888888888888888,
              "#fdca26"
             ],
             [
              1,
              "#f0f921"
             ]
            ],
            "type": "contour"
           }
          ],
          "contourcarpet": [
           {
            "colorbar": {
             "outlinewidth": 0,
             "ticks": ""
            },
            "type": "contourcarpet"
           }
          ],
          "heatmap": [
           {
            "colorbar": {
             "outlinewidth": 0,
             "ticks": ""
            },
            "colorscale": [
             [
              0,
              "#0d0887"
             ],
             [
              0.1111111111111111,
              "#46039f"
             ],
             [
              0.2222222222222222,
              "#7201a8"
             ],
             [
              0.3333333333333333,
              "#9c179e"
             ],
             [
              0.4444444444444444,
              "#bd3786"
             ],
             [
              0.5555555555555556,
              "#d8576b"
             ],
             [
              0.6666666666666666,
              "#ed7953"
             ],
             [
              0.7777777777777778,
              "#fb9f3a"
             ],
             [
              0.8888888888888888,
              "#fdca26"
             ],
             [
              1,
              "#f0f921"
             ]
            ],
            "type": "heatmap"
           }
          ],
          "heatmapgl": [
           {
            "colorbar": {
             "outlinewidth": 0,
             "ticks": ""
            },
            "colorscale": [
             [
              0,
              "#0d0887"
             ],
             [
              0.1111111111111111,
              "#46039f"
             ],
             [
              0.2222222222222222,
              "#7201a8"
             ],
             [
              0.3333333333333333,
              "#9c179e"
             ],
             [
              0.4444444444444444,
              "#bd3786"
             ],
             [
              0.5555555555555556,
              "#d8576b"
             ],
             [
              0.6666666666666666,
              "#ed7953"
             ],
             [
              0.7777777777777778,
              "#fb9f3a"
             ],
             [
              0.8888888888888888,
              "#fdca26"
             ],
             [
              1,
              "#f0f921"
             ]
            ],
            "type": "heatmapgl"
           }
          ],
          "histogram": [
           {
            "marker": {
             "pattern": {
              "fillmode": "overlay",
              "size": 10,
              "solidity": 0.2
             }
            },
            "type": "histogram"
           }
          ],
          "histogram2d": [
           {
            "colorbar": {
             "outlinewidth": 0,
             "ticks": ""
            },
            "colorscale": [
             [
              0,
              "#0d0887"
             ],
             [
              0.1111111111111111,
              "#46039f"
             ],
             [
              0.2222222222222222,
              "#7201a8"
             ],
             [
              0.3333333333333333,
              "#9c179e"
             ],
             [
              0.4444444444444444,
              "#bd3786"
             ],
             [
              0.5555555555555556,
              "#d8576b"
             ],
             [
              0.6666666666666666,
              "#ed7953"
             ],
             [
              0.7777777777777778,
              "#fb9f3a"
             ],
             [
              0.8888888888888888,
              "#fdca26"
             ],
             [
              1,
              "#f0f921"
             ]
            ],
            "type": "histogram2d"
           }
          ],
          "histogram2dcontour": [
           {
            "colorbar": {
             "outlinewidth": 0,
             "ticks": ""
            },
            "colorscale": [
             [
              0,
              "#0d0887"
             ],
             [
              0.1111111111111111,
              "#46039f"
             ],
             [
              0.2222222222222222,
              "#7201a8"
             ],
             [
              0.3333333333333333,
              "#9c179e"
             ],
             [
              0.4444444444444444,
              "#bd3786"
             ],
             [
              0.5555555555555556,
              "#d8576b"
             ],
             [
              0.6666666666666666,
              "#ed7953"
             ],
             [
              0.7777777777777778,
              "#fb9f3a"
             ],
             [
              0.8888888888888888,
              "#fdca26"
             ],
             [
              1,
              "#f0f921"
             ]
            ],
            "type": "histogram2dcontour"
           }
          ],
          "mesh3d": [
           {
            "colorbar": {
             "outlinewidth": 0,
             "ticks": ""
            },
            "type": "mesh3d"
           }
          ],
          "parcoords": [
           {
            "line": {
             "colorbar": {
              "outlinewidth": 0,
              "ticks": ""
             }
            },
            "type": "parcoords"
           }
          ],
          "pie": [
           {
            "automargin": true,
            "type": "pie"
           }
          ],
          "scatter": [
           {
            "marker": {
             "colorbar": {
              "outlinewidth": 0,
              "ticks": ""
             }
            },
            "type": "scatter"
           }
          ],
          "scatter3d": [
           {
            "line": {
             "colorbar": {
              "outlinewidth": 0,
              "ticks": ""
             }
            },
            "marker": {
             "colorbar": {
              "outlinewidth": 0,
              "ticks": ""
             }
            },
            "type": "scatter3d"
           }
          ],
          "scattercarpet": [
           {
            "marker": {
             "colorbar": {
              "outlinewidth": 0,
              "ticks": ""
             }
            },
            "type": "scattercarpet"
           }
          ],
          "scattergeo": [
           {
            "marker": {
             "colorbar": {
              "outlinewidth": 0,
              "ticks": ""
             }
            },
            "type": "scattergeo"
           }
          ],
          "scattergl": [
           {
            "marker": {
             "colorbar": {
              "outlinewidth": 0,
              "ticks": ""
             }
            },
            "type": "scattergl"
           }
          ],
          "scattermapbox": [
           {
            "marker": {
             "colorbar": {
              "outlinewidth": 0,
              "ticks": ""
             }
            },
            "type": "scattermapbox"
           }
          ],
          "scatterpolar": [
           {
            "marker": {
             "colorbar": {
              "outlinewidth": 0,
              "ticks": ""
             }
            },
            "type": "scatterpolar"
           }
          ],
          "scatterpolargl": [
           {
            "marker": {
             "colorbar": {
              "outlinewidth": 0,
              "ticks": ""
             }
            },
            "type": "scatterpolargl"
           }
          ],
          "scatterternary": [
           {
            "marker": {
             "colorbar": {
              "outlinewidth": 0,
              "ticks": ""
             }
            },
            "type": "scatterternary"
           }
          ],
          "surface": [
           {
            "colorbar": {
             "outlinewidth": 0,
             "ticks": ""
            },
            "colorscale": [
             [
              0,
              "#0d0887"
             ],
             [
              0.1111111111111111,
              "#46039f"
             ],
             [
              0.2222222222222222,
              "#7201a8"
             ],
             [
              0.3333333333333333,
              "#9c179e"
             ],
             [
              0.4444444444444444,
              "#bd3786"
             ],
             [
              0.5555555555555556,
              "#d8576b"
             ],
             [
              0.6666666666666666,
              "#ed7953"
             ],
             [
              0.7777777777777778,
              "#fb9f3a"
             ],
             [
              0.8888888888888888,
              "#fdca26"
             ],
             [
              1,
              "#f0f921"
             ]
            ],
            "type": "surface"
           }
          ],
          "table": [
           {
            "cells": {
             "fill": {
              "color": "#EBF0F8"
             },
             "line": {
              "color": "white"
             }
            },
            "header": {
             "fill": {
              "color": "#C8D4E3"
             },
             "line": {
              "color": "white"
             }
            },
            "type": "table"
           }
          ]
         },
         "layout": {
          "annotationdefaults": {
           "arrowcolor": "#2a3f5f",
           "arrowhead": 0,
           "arrowwidth": 1
          },
          "autotypenumbers": "strict",
          "coloraxis": {
           "colorbar": {
            "outlinewidth": 0,
            "ticks": ""
           }
          },
          "colorscale": {
           "diverging": [
            [
             0,
             "#8e0152"
            ],
            [
             0.1,
             "#c51b7d"
            ],
            [
             0.2,
             "#de77ae"
            ],
            [
             0.3,
             "#f1b6da"
            ],
            [
             0.4,
             "#fde0ef"
            ],
            [
             0.5,
             "#f7f7f7"
            ],
            [
             0.6,
             "#e6f5d0"
            ],
            [
             0.7,
             "#b8e186"
            ],
            [
             0.8,
             "#7fbc41"
            ],
            [
             0.9,
             "#4d9221"
            ],
            [
             1,
             "#276419"
            ]
           ],
           "sequential": [
            [
             0,
             "#0d0887"
            ],
            [
             0.1111111111111111,
             "#46039f"
            ],
            [
             0.2222222222222222,
             "#7201a8"
            ],
            [
             0.3333333333333333,
             "#9c179e"
            ],
            [
             0.4444444444444444,
             "#bd3786"
            ],
            [
             0.5555555555555556,
             "#d8576b"
            ],
            [
             0.6666666666666666,
             "#ed7953"
            ],
            [
             0.7777777777777778,
             "#fb9f3a"
            ],
            [
             0.8888888888888888,
             "#fdca26"
            ],
            [
             1,
             "#f0f921"
            ]
           ],
           "sequentialminus": [
            [
             0,
             "#0d0887"
            ],
            [
             0.1111111111111111,
             "#46039f"
            ],
            [
             0.2222222222222222,
             "#7201a8"
            ],
            [
             0.3333333333333333,
             "#9c179e"
            ],
            [
             0.4444444444444444,
             "#bd3786"
            ],
            [
             0.5555555555555556,
             "#d8576b"
            ],
            [
             0.6666666666666666,
             "#ed7953"
            ],
            [
             0.7777777777777778,
             "#fb9f3a"
            ],
            [
             0.8888888888888888,
             "#fdca26"
            ],
            [
             1,
             "#f0f921"
            ]
           ]
          },
          "colorway": [
           "#636efa",
           "#EF553B",
           "#00cc96",
           "#ab63fa",
           "#FFA15A",
           "#19d3f3",
           "#FF6692",
           "#B6E880",
           "#FF97FF",
           "#FECB52"
          ],
          "font": {
           "color": "#2a3f5f"
          },
          "geo": {
           "bgcolor": "white",
           "lakecolor": "white",
           "landcolor": "#E5ECF6",
           "showlakes": true,
           "showland": true,
           "subunitcolor": "white"
          },
          "hoverlabel": {
           "align": "left"
          },
          "hovermode": "closest",
          "mapbox": {
           "style": "light"
          },
          "paper_bgcolor": "white",
          "plot_bgcolor": "#E5ECF6",
          "polar": {
           "angularaxis": {
            "gridcolor": "white",
            "linecolor": "white",
            "ticks": ""
           },
           "bgcolor": "#E5ECF6",
           "radialaxis": {
            "gridcolor": "white",
            "linecolor": "white",
            "ticks": ""
           }
          },
          "scene": {
           "xaxis": {
            "backgroundcolor": "#E5ECF6",
            "gridcolor": "white",
            "gridwidth": 2,
            "linecolor": "white",
            "showbackground": true,
            "ticks": "",
            "zerolinecolor": "white"
           },
           "yaxis": {
            "backgroundcolor": "#E5ECF6",
            "gridcolor": "white",
            "gridwidth": 2,
            "linecolor": "white",
            "showbackground": true,
            "ticks": "",
            "zerolinecolor": "white"
           },
           "zaxis": {
            "backgroundcolor": "#E5ECF6",
            "gridcolor": "white",
            "gridwidth": 2,
            "linecolor": "white",
            "showbackground": true,
            "ticks": "",
            "zerolinecolor": "white"
           }
          },
          "shapedefaults": {
           "line": {
            "color": "#2a3f5f"
           }
          },
          "ternary": {
           "aaxis": {
            "gridcolor": "white",
            "linecolor": "white",
            "ticks": ""
           },
           "baxis": {
            "gridcolor": "white",
            "linecolor": "white",
            "ticks": ""
           },
           "bgcolor": "#E5ECF6",
           "caxis": {
            "gridcolor": "white",
            "linecolor": "white",
            "ticks": ""
           }
          },
          "title": {
           "x": 0.05
          },
          "xaxis": {
           "automargin": true,
           "gridcolor": "white",
           "linecolor": "white",
           "ticks": "",
           "title": {
            "standoff": 15
           },
           "zerolinecolor": "white",
           "zerolinewidth": 2
          },
          "yaxis": {
           "automargin": true,
           "gridcolor": "white",
           "linecolor": "white",
           "ticks": "",
           "title": {
            "standoff": 15
           },
           "zerolinecolor": "white",
           "zerolinewidth": 2
          }
         }
        },
        "title": {
         "text": "Total Explained Variance: 66.53%"
        }
       }
      }
     },
     "metadata": {},
     "output_type": "display_data"
    }
   ],
   "source": [
    "import plotly.express as px\n",
    "from sklearn.decomposition import PCA\n",
    "\n",
    "ds = ds.head(180)\n",
    "\n",
    "pca = PCA(n_components=3)\n",
    "components = pca.fit_transform(X)\n",
    "\n",
    "total_var = pca.explained_variance_ratio_.sum() * 100\n",
    "\n",
    "fig = px.scatter_3d(\n",
    "    components, x=0, y=1, z=2, color=ds['Wine'],\n",
    "    title=f'Total Explained Variance: {total_var:.2f}%',\n",
    "    labels={'0': 'PC 1', '1': 'PC 2', '2': 'PC 3'}\n",
    ")\n",
    "fig.show()"
   ]
  }
 ],
 "metadata": {
  "colab": {
   "collapsed_sections": [],
   "name": "PCA.ipynb",
   "provenance": []
  },
  "interpreter": {
   "hash": "7155510279b0853efb4e71c2d1649662e0d99b82e70782f592654dd718d2ed43"
  },
  "kernelspec": {
   "display_name": "Python 3",
   "language": "python",
   "name": "python3"
  },
  "language_info": {
   "codemirror_mode": {
    "name": "ipython",
    "version": 3
   },
   "file_extension": ".py",
   "mimetype": "text/x-python",
   "name": "python",
   "nbconvert_exporter": "python",
   "pygments_lexer": "ipython3",
   "version": "3.9.6"
  }
 },
 "nbformat": 4,
 "nbformat_minor": 1
}
